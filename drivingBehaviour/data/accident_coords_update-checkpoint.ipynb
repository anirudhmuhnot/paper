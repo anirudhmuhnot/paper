{
 "cells": [
  {
   "cell_type": "code",
   "execution_count": 5,
   "metadata": {},
   "outputs": [],
   "source": [
    "import pandas as pd\n",
    "import numpy as np\n",
    "\n",
    "df = pd.read_csv('accidents_2005_to_2007.csv', dtype='unicode')"
   ]
  },
  {
   "cell_type": "code",
   "execution_count": 6,
   "metadata": {},
   "outputs": [
    {
     "data": {
      "text/html": [
       "<div>\n",
       "<style scoped>\n",
       "    .dataframe tbody tr th:only-of-type {\n",
       "        vertical-align: middle;\n",
       "    }\n",
       "\n",
       "    .dataframe tbody tr th {\n",
       "        vertical-align: top;\n",
       "    }\n",
       "\n",
       "    .dataframe thead th {\n",
       "        text-align: right;\n",
       "    }\n",
       "</style>\n",
       "<table border=\"1\" class=\"dataframe\">\n",
       "  <thead>\n",
       "    <tr style=\"text-align: right;\">\n",
       "      <th></th>\n",
       "      <th>Accident_Index</th>\n",
       "      <th>Location_Easting_OSGR</th>\n",
       "      <th>Location_Northing_OSGR</th>\n",
       "      <th>Longitude</th>\n",
       "      <th>Latitude</th>\n",
       "      <th>Police_Force</th>\n",
       "      <th>Accident_Severity</th>\n",
       "      <th>Number_of_Vehicles</th>\n",
       "      <th>Number_of_Casualties</th>\n",
       "      <th>Date</th>\n",
       "      <th>...</th>\n",
       "      <th>Pedestrian_Crossing-Physical_Facilities</th>\n",
       "      <th>Light_Conditions</th>\n",
       "      <th>Weather_Conditions</th>\n",
       "      <th>Road_Surface_Conditions</th>\n",
       "      <th>Special_Conditions_at_Site</th>\n",
       "      <th>Carriageway_Hazards</th>\n",
       "      <th>Urban_or_Rural_Area</th>\n",
       "      <th>Did_Police_Officer_Attend_Scene_of_Accident</th>\n",
       "      <th>LSOA_of_Accident_Location</th>\n",
       "      <th>Year</th>\n",
       "    </tr>\n",
       "  </thead>\n",
       "  <tbody>\n",
       "    <tr>\n",
       "      <th>0</th>\n",
       "      <td>200501BS00001</td>\n",
       "      <td>525680</td>\n",
       "      <td>178240</td>\n",
       "      <td>-0.19117</td>\n",
       "      <td>51.489096</td>\n",
       "      <td>1</td>\n",
       "      <td>2</td>\n",
       "      <td>1</td>\n",
       "      <td>1</td>\n",
       "      <td>04/01/2005</td>\n",
       "      <td>...</td>\n",
       "      <td>Zebra crossing</td>\n",
       "      <td>Daylight: Street light present</td>\n",
       "      <td>Raining without high winds</td>\n",
       "      <td>Wet/Damp</td>\n",
       "      <td>None</td>\n",
       "      <td>None</td>\n",
       "      <td>1</td>\n",
       "      <td>Yes</td>\n",
       "      <td>E01002849</td>\n",
       "      <td>2005</td>\n",
       "    </tr>\n",
       "    <tr>\n",
       "      <th>1</th>\n",
       "      <td>200501BS00002</td>\n",
       "      <td>524170</td>\n",
       "      <td>181650</td>\n",
       "      <td>-0.211708</td>\n",
       "      <td>51.520075</td>\n",
       "      <td>1</td>\n",
       "      <td>3</td>\n",
       "      <td>1</td>\n",
       "      <td>1</td>\n",
       "      <td>05/01/2005</td>\n",
       "      <td>...</td>\n",
       "      <td>Pedestrian phase at traffic signal junction</td>\n",
       "      <td>Darkness: Street lights present and lit</td>\n",
       "      <td>Fine without high winds</td>\n",
       "      <td>Dry</td>\n",
       "      <td>None</td>\n",
       "      <td>None</td>\n",
       "      <td>1</td>\n",
       "      <td>Yes</td>\n",
       "      <td>E01002909</td>\n",
       "      <td>2005</td>\n",
       "    </tr>\n",
       "    <tr>\n",
       "      <th>2</th>\n",
       "      <td>200501BS00003</td>\n",
       "      <td>524520</td>\n",
       "      <td>182240</td>\n",
       "      <td>-0.206458</td>\n",
       "      <td>51.525301</td>\n",
       "      <td>1</td>\n",
       "      <td>3</td>\n",
       "      <td>2</td>\n",
       "      <td>1</td>\n",
       "      <td>06/01/2005</td>\n",
       "      <td>...</td>\n",
       "      <td>No physical crossing within 50 meters</td>\n",
       "      <td>Darkness: Street lights present and lit</td>\n",
       "      <td>Fine without high winds</td>\n",
       "      <td>Dry</td>\n",
       "      <td>None</td>\n",
       "      <td>None</td>\n",
       "      <td>1</td>\n",
       "      <td>Yes</td>\n",
       "      <td>E01002857</td>\n",
       "      <td>2005</td>\n",
       "    </tr>\n",
       "    <tr>\n",
       "      <th>3</th>\n",
       "      <td>200501BS00004</td>\n",
       "      <td>526900</td>\n",
       "      <td>177530</td>\n",
       "      <td>-0.173862</td>\n",
       "      <td>51.482442</td>\n",
       "      <td>1</td>\n",
       "      <td>3</td>\n",
       "      <td>1</td>\n",
       "      <td>1</td>\n",
       "      <td>07/01/2005</td>\n",
       "      <td>...</td>\n",
       "      <td>No physical crossing within 50 meters</td>\n",
       "      <td>Daylight: Street light present</td>\n",
       "      <td>Fine without high winds</td>\n",
       "      <td>Dry</td>\n",
       "      <td>None</td>\n",
       "      <td>None</td>\n",
       "      <td>1</td>\n",
       "      <td>Yes</td>\n",
       "      <td>E01002840</td>\n",
       "      <td>2005</td>\n",
       "    </tr>\n",
       "    <tr>\n",
       "      <th>4</th>\n",
       "      <td>200501BS00005</td>\n",
       "      <td>528060</td>\n",
       "      <td>179040</td>\n",
       "      <td>-0.156618</td>\n",
       "      <td>51.495752</td>\n",
       "      <td>1</td>\n",
       "      <td>3</td>\n",
       "      <td>1</td>\n",
       "      <td>1</td>\n",
       "      <td>10/01/2005</td>\n",
       "      <td>...</td>\n",
       "      <td>No physical crossing within 50 meters</td>\n",
       "      <td>Darkness: Street lighting unknown</td>\n",
       "      <td>Fine without high winds</td>\n",
       "      <td>Wet/Damp</td>\n",
       "      <td>None</td>\n",
       "      <td>None</td>\n",
       "      <td>1</td>\n",
       "      <td>Yes</td>\n",
       "      <td>E01002863</td>\n",
       "      <td>2005</td>\n",
       "    </tr>\n",
       "  </tbody>\n",
       "</table>\n",
       "<p>5 rows × 33 columns</p>\n",
       "</div>"
      ],
      "text/plain": [
       "  Accident_Index Location_Easting_OSGR Location_Northing_OSGR  Longitude  \\\n",
       "0  200501BS00001                525680                 178240   -0.19117   \n",
       "1  200501BS00002                524170                 181650  -0.211708   \n",
       "2  200501BS00003                524520                 182240  -0.206458   \n",
       "3  200501BS00004                526900                 177530  -0.173862   \n",
       "4  200501BS00005                528060                 179040  -0.156618   \n",
       "\n",
       "    Latitude Police_Force Accident_Severity Number_of_Vehicles  \\\n",
       "0  51.489096            1                 2                  1   \n",
       "1  51.520075            1                 3                  1   \n",
       "2  51.525301            1                 3                  2   \n",
       "3  51.482442            1                 3                  1   \n",
       "4  51.495752            1                 3                  1   \n",
       "\n",
       "  Number_of_Casualties        Date  ...   \\\n",
       "0                    1  04/01/2005  ...    \n",
       "1                    1  05/01/2005  ...    \n",
       "2                    1  06/01/2005  ...    \n",
       "3                    1  07/01/2005  ...    \n",
       "4                    1  10/01/2005  ...    \n",
       "\n",
       "       Pedestrian_Crossing-Physical_Facilities  \\\n",
       "0                               Zebra crossing   \n",
       "1  Pedestrian phase at traffic signal junction   \n",
       "2        No physical crossing within 50 meters   \n",
       "3        No physical crossing within 50 meters   \n",
       "4        No physical crossing within 50 meters   \n",
       "\n",
       "                          Light_Conditions          Weather_Conditions  \\\n",
       "0           Daylight: Street light present  Raining without high winds   \n",
       "1  Darkness: Street lights present and lit     Fine without high winds   \n",
       "2  Darkness: Street lights present and lit     Fine without high winds   \n",
       "3           Daylight: Street light present     Fine without high winds   \n",
       "4        Darkness: Street lighting unknown     Fine without high winds   \n",
       "\n",
       "  Road_Surface_Conditions Special_Conditions_at_Site Carriageway_Hazards  \\\n",
       "0                Wet/Damp                       None                None   \n",
       "1                     Dry                       None                None   \n",
       "2                     Dry                       None                None   \n",
       "3                     Dry                       None                None   \n",
       "4                Wet/Damp                       None                None   \n",
       "\n",
       "  Urban_or_Rural_Area Did_Police_Officer_Attend_Scene_of_Accident  \\\n",
       "0                   1                                         Yes   \n",
       "1                   1                                         Yes   \n",
       "2                   1                                         Yes   \n",
       "3                   1                                         Yes   \n",
       "4                   1                                         Yes   \n",
       "\n",
       "  LSOA_of_Accident_Location  Year  \n",
       "0                 E01002849  2005  \n",
       "1                 E01002909  2005  \n",
       "2                 E01002857  2005  \n",
       "3                 E01002840  2005  \n",
       "4                 E01002863  2005  \n",
       "\n",
       "[5 rows x 33 columns]"
      ]
     },
     "execution_count": 6,
     "metadata": {},
     "output_type": "execute_result"
    }
   ],
   "source": [
    "df.head()"
   ]
  },
  {
   "cell_type": "code",
   "execution_count": 7,
   "metadata": {},
   "outputs": [],
   "source": [
    "df1 = pd.read_excel('RTC Location 2017.xlsx')"
   ]
  },
  {
   "cell_type": "code",
   "execution_count": 8,
   "metadata": {},
   "outputs": [
    {
     "data": {
      "text/html": [
       "<div>\n",
       "<style scoped>\n",
       "    .dataframe tbody tr th:only-of-type {\n",
       "        vertical-align: middle;\n",
       "    }\n",
       "\n",
       "    .dataframe tbody tr th {\n",
       "        vertical-align: top;\n",
       "    }\n",
       "\n",
       "    .dataframe thead th {\n",
       "        text-align: right;\n",
       "    }\n",
       "</style>\n",
       "<table border=\"1\" class=\"dataframe\">\n",
       "  <thead>\n",
       "    <tr style=\"text-align: right;\">\n",
       "      <th></th>\n",
       "      <th>Reference</th>\n",
       "      <th>Date</th>\n",
       "      <th>Year</th>\n",
       "      <th>Month</th>\n",
       "      <th>Day</th>\n",
       "      <th>Day.1</th>\n",
       "      <th>Time</th>\n",
       "      <th>Severity</th>\n",
       "      <th>Road_Class</th>\n",
       "      <th>Main_rd_no</th>\n",
       "      <th>...</th>\n",
       "      <th>Vehicle_2_Location</th>\n",
       "      <th>Vehicle_ 2_Skidding</th>\n",
       "      <th>Vehicle_3_Type</th>\n",
       "      <th>V3_Manouvres</th>\n",
       "      <th>V3_From_Direction</th>\n",
       "      <th>V3_To_Direction</th>\n",
       "      <th>V3_Location</th>\n",
       "      <th>V3_Skidding</th>\n",
       "      <th>Easting</th>\n",
       "      <th>Northing</th>\n",
       "    </tr>\n",
       "  </thead>\n",
       "  <tbody>\n",
       "    <tr>\n",
       "      <th>0</th>\n",
       "      <td>16097317</td>\n",
       "      <td>20170223</td>\n",
       "      <td>2017</td>\n",
       "      <td>2</td>\n",
       "      <td>23</td>\n",
       "      <td>Thursday</td>\n",
       "      <td>1715</td>\n",
       "      <td>Serious</td>\n",
       "      <td>U</td>\n",
       "      <td>0</td>\n",
       "      <td>...</td>\n",
       "      <td>NaN</td>\n",
       "      <td>NaN</td>\n",
       "      <td>NaN</td>\n",
       "      <td>NaN</td>\n",
       "      <td>NaN</td>\n",
       "      <td>NaN</td>\n",
       "      <td>NaN</td>\n",
       "      <td>NaN</td>\n",
       "      <td>518817.0031</td>\n",
       "      <td>302386.0022</td>\n",
       "    </tr>\n",
       "    <tr>\n",
       "      <th>1</th>\n",
       "      <td>16117217</td>\n",
       "      <td>20170216</td>\n",
       "      <td>2017</td>\n",
       "      <td>2</td>\n",
       "      <td>16</td>\n",
       "      <td>Thursday</td>\n",
       "      <td>742</td>\n",
       "      <td>Serious</td>\n",
       "      <td>U</td>\n",
       "      <td>0</td>\n",
       "      <td>...</td>\n",
       "      <td>Mid jnctn - on rbout or main road</td>\n",
       "      <td>Did not skid</td>\n",
       "      <td>NaN</td>\n",
       "      <td>NaN</td>\n",
       "      <td>NaN</td>\n",
       "      <td>NaN</td>\n",
       "      <td>NaN</td>\n",
       "      <td>NaN</td>\n",
       "      <td>545714.0002</td>\n",
       "      <td>257801.0045</td>\n",
       "    </tr>\n",
       "    <tr>\n",
       "      <th>2</th>\n",
       "      <td>16127017</td>\n",
       "      <td>20170210</td>\n",
       "      <td>2017</td>\n",
       "      <td>2</td>\n",
       "      <td>10</td>\n",
       "      <td>Friday</td>\n",
       "      <td>1125</td>\n",
       "      <td>Slight</td>\n",
       "      <td>B</td>\n",
       "      <td>1102</td>\n",
       "      <td>...</td>\n",
       "      <td>Not at,or within 20m of, junction</td>\n",
       "      <td>Did not skid</td>\n",
       "      <td>NaN</td>\n",
       "      <td>NaN</td>\n",
       "      <td>NaN</td>\n",
       "      <td>NaN</td>\n",
       "      <td>NaN</td>\n",
       "      <td>NaN</td>\n",
       "      <td>552131.9970</td>\n",
       "      <td>260701.0044</td>\n",
       "    </tr>\n",
       "    <tr>\n",
       "      <th>3</th>\n",
       "      <td>16133217</td>\n",
       "      <td>20170216</td>\n",
       "      <td>2017</td>\n",
       "      <td>2</td>\n",
       "      <td>16</td>\n",
       "      <td>Thursday</td>\n",
       "      <td>850</td>\n",
       "      <td>Serious</td>\n",
       "      <td>C</td>\n",
       "      <td>145</td>\n",
       "      <td>...</td>\n",
       "      <td>NaN</td>\n",
       "      <td>NaN</td>\n",
       "      <td>NaN</td>\n",
       "      <td>NaN</td>\n",
       "      <td>NaN</td>\n",
       "      <td>NaN</td>\n",
       "      <td>NaN</td>\n",
       "      <td>NaN</td>\n",
       "      <td>562378.0025</td>\n",
       "      <td>270811.0004</td>\n",
       "    </tr>\n",
       "    <tr>\n",
       "      <th>4</th>\n",
       "      <td>16137717</td>\n",
       "      <td>20170202</td>\n",
       "      <td>2017</td>\n",
       "      <td>2</td>\n",
       "      <td>2</td>\n",
       "      <td>Thursday</td>\n",
       "      <td>703</td>\n",
       "      <td>Slight</td>\n",
       "      <td>A</td>\n",
       "      <td>1134</td>\n",
       "      <td>...</td>\n",
       "      <td>Leaving main road</td>\n",
       "      <td>Did not skid</td>\n",
       "      <td>NaN</td>\n",
       "      <td>NaN</td>\n",
       "      <td>NaN</td>\n",
       "      <td>NaN</td>\n",
       "      <td>NaN</td>\n",
       "      <td>NaN</td>\n",
       "      <td>545254.9976</td>\n",
       "      <td>256899.0027</td>\n",
       "    </tr>\n",
       "  </tbody>\n",
       "</table>\n",
       "<p>5 rows × 54 columns</p>\n",
       "</div>"
      ],
      "text/plain": [
       "   Reference      Date  Year  Month  Day     Day.1  Time Severity Road_Class  \\\n",
       "0   16097317  20170223  2017      2   23  Thursday  1715  Serious          U   \n",
       "1   16117217  20170216  2017      2   16  Thursday   742  Serious          U   \n",
       "2   16127017  20170210  2017      2   10    Friday  1125   Slight          B   \n",
       "3   16133217  20170216  2017      2   16  Thursday   850  Serious          C   \n",
       "4   16137717  20170202  2017      2    2  Thursday   703   Slight          A   \n",
       "\n",
       "   Main_rd_no     ...                      Vehicle_2_Location  \\\n",
       "0           0     ...                                     NaN   \n",
       "1           0     ...       Mid jnctn - on rbout or main road   \n",
       "2        1102     ...       Not at,or within 20m of, junction   \n",
       "3         145     ...                                     NaN   \n",
       "4        1134     ...                       Leaving main road   \n",
       "\n",
       "  Vehicle_ 2_Skidding Vehicle_3_Type V3_Manouvres  V3_From_Direction  \\\n",
       "0                 NaN            NaN          NaN                NaN   \n",
       "1        Did not skid            NaN          NaN                NaN   \n",
       "2        Did not skid            NaN          NaN                NaN   \n",
       "3                 NaN            NaN          NaN                NaN   \n",
       "4        Did not skid            NaN          NaN                NaN   \n",
       "\n",
       "  V3_To_Direction V3_Location V3_Skidding      Easting     Northing  \n",
       "0             NaN         NaN         NaN  518817.0031  302386.0022  \n",
       "1             NaN         NaN         NaN  545714.0002  257801.0045  \n",
       "2             NaN         NaN         NaN  552131.9970  260701.0044  \n",
       "3             NaN         NaN         NaN  562378.0025  270811.0004  \n",
       "4             NaN         NaN         NaN  545254.9976  256899.0027  \n",
       "\n",
       "[5 rows x 54 columns]"
      ]
     },
     "execution_count": 8,
     "metadata": {},
     "output_type": "execute_result"
    }
   ],
   "source": [
    "df1.head()"
   ]
  },
  {
   "cell_type": "code",
   "execution_count": 4,
   "metadata": {},
   "outputs": [
    {
     "data": {
      "text/plain": [
       "Index(['Unnamed: 0', 'Accident_Index', 'Location_Easting_OSGR',\n",
       "       'Location_Northing_OSGR', 'Longitude', 'Latitude', 'Police_Force',\n",
       "       'Accident_Severity', 'Number_of_Vehicles', 'Number_of_Casualties',\n",
       "       'Date', 'Day_of_Week', 'Time', 'Local_Authority_(District)',\n",
       "       'Local_Authority_(Highway)', '1st_Road_Class', '1st_Road_Number',\n",
       "       'Road_Type', 'Speed_limit', 'Junction_Detail', 'Junction_Control',\n",
       "       '2nd_Road_Class', '2nd_Road_Number',\n",
       "       'Pedestrian_Crossing-Human_Control',\n",
       "       'Pedestrian_Crossing-Physical_Facilities', 'Light_Conditions',\n",
       "       'Weather_Conditions', 'Road_Surface_Conditions',\n",
       "       'Special_Conditions_at_Site', 'Carriageway_Hazards',\n",
       "       'Urban_or_Rural_Area', 'Did_Police_Officer_Attend_Scene_of_Accident',\n",
       "       'LSOA_of_Accident_Location'],\n",
       "      dtype='object')"
      ]
     },
     "execution_count": 4,
     "metadata": {},
     "output_type": "execute_result"
    }
   ],
   "source": [
    "df.columns"
   ]
  },
  {
   "cell_type": "code",
   "execution_count": 11,
   "metadata": {
    "collapsed": true
   },
   "outputs": [],
   "source": [
    "new_accidents_file = df[['Location_Easting_OSGR', 'Location_Northing_OSGR']].copy()"
   ]
  },
  {
   "cell_type": "code",
   "execution_count": 13,
   "metadata": {
    "collapsed": true
   },
   "outputs": [],
   "source": []
  },
  {
   "cell_type": "code",
   "execution_count": 6,
   "metadata": {},
   "outputs": [
    {
     "name": "stdout",
     "output_type": "stream",
     "text": [
      "  Location_Easting_OSGR Location_Northing_OSGR\n",
      "0                525680                 178240\n",
      "1                524170                 181650\n",
      "2                524520                 182240\n",
      "3                526900                 177530\n",
      "4                528060                 179040\n"
     ]
    }
   ],
   "source": [
    "print(new_accidents_file.head(5))"
   ]
  },
  {
   "cell_type": "code",
   "execution_count": 12,
   "metadata": {
    "collapsed": true
   },
   "outputs": [],
   "source": [
    "new_accidents_file.to_csv('Accident_Coords_2005_to_2014.csv')"
   ]
  },
  {
   "cell_type": "code",
   "execution_count": 13,
   "metadata": {
    "collapsed": true
   },
   "outputs": [],
   "source": [
    "df = pd.read_csv('Accidents_2005_to_2014.csv', dtype='unicode')\n",
    "df_coords = pd.read_csv('Accidents0514andLatLon.csv', dtype='unicode')\n"
   ]
  },
  {
   "cell_type": "code",
   "execution_count": 14,
   "metadata": {},
   "outputs": [
    {
     "data": {
      "text/plain": [
       "Index(['Lat', 'Lon', 'E', 'N'], dtype='object')"
      ]
     },
     "execution_count": 14,
     "metadata": {},
     "output_type": "execute_result"
    }
   ],
   "source": [
    "df_coords.columns"
   ]
  },
  {
   "cell_type": "code",
   "execution_count": 15,
   "metadata": {
    "collapsed": true
   },
   "outputs": [],
   "source": [
    "df['Lat'] = df_coords['Lat']\n",
    "df['Lon'] = df_coords['Lon']"
   ]
  },
  {
   "cell_type": "code",
   "execution_count": 17,
   "metadata": {
    "collapsed": true
   },
   "outputs": [],
   "source": [
    "df.to_csv('Accident_2005_to_2014_ll.csv')"
   ]
  },
  {
   "cell_type": "code",
   "execution_count": 2,
   "metadata": {},
   "outputs": [],
   "source": [
    "import pandas as pd\n",
    "df = pd.read_csv('Accidents_2005_to_2014.csv', dtype='unicode')"
   ]
  },
  {
   "cell_type": "code",
   "execution_count": 7,
   "metadata": {},
   "outputs": [],
   "source": [
    "df['Year'] = df['Date'].str[6:10]"
   ]
  },
  {
   "cell_type": "code",
   "execution_count": 3,
   "metadata": {},
   "outputs": [
    {
     "data": {
      "text/plain": [
       "Index(['Unnamed: 0', 'Accident_Index', 'Location_Easting_OSGR',\n",
       "       'Location_Northing_OSGR', 'Longitude', 'Latitude', 'Police_Force',\n",
       "       'Accident_Severity', 'Number_of_Vehicles', 'Number_of_Casualties',\n",
       "       'Date', 'Day_of_Week', 'Time', 'Local_Authority_(District)',\n",
       "       'Local_Authority_(Highway)', '1st_Road_Class', '1st_Road_Number',\n",
       "       'Road_Type', 'Speed_limit', 'Junction_Detail', 'Junction_Control',\n",
       "       '2nd_Road_Class', '2nd_Road_Number',\n",
       "       'Pedestrian_Crossing-Human_Control',\n",
       "       'Pedestrian_Crossing-Physical_Facilities', 'Light_Conditions',\n",
       "       'Weather_Conditions', 'Road_Surface_Conditions',\n",
       "       'Special_Conditions_at_Site', 'Carriageway_Hazards',\n",
       "       'Urban_or_Rural_Area', 'Did_Police_Officer_Attend_Scene_of_Accident',\n",
       "       'LSOA_of_Accident_Location'],\n",
       "      dtype='object')"
      ]
     },
     "execution_count": 3,
     "metadata": {},
     "output_type": "execute_result"
    }
   ],
   "source": [
    "df.columns"
   ]
  },
  {
   "cell_type": "code",
   "execution_count": 8,
   "metadata": {},
   "outputs": [
    {
     "name": "stdout",
     "output_type": "stream",
     "text": [
      "0    2005\n",
      "1    2005\n",
      "2    2005\n",
      "3    2005\n",
      "4    2005\n",
      "Name: Year, dtype: object\n"
     ]
    }
   ],
   "source": [
    "print(df['Year'].head())"
   ]
  },
  {
   "cell_type": "code",
   "execution_count": 12,
   "metadata": {},
   "outputs": [],
   "source": [
    "df_05_08 = df[(df['Year'] == \"2005\") | (df['Year'] == \"2006\") | (df['Year'] == \"2007\") ]\n",
    "df_05_08.to_csv('accidents_2005_to_2008.csv')"
   ]
  },
  {
   "cell_type": "code",
   "execution_count": 13,
   "metadata": {
    "collapsed": true
   },
   "outputs": [],
   "source": [
    "df_09_11 = df[(df['Year'] == \"2009\") | (df['Year'] == \"2010\") | (df['Year'] == \"2011\") ]\n",
    "df_09_11.to_csv('accidents_2009_to_2011.csv')"
   ]
  },
  {
   "cell_type": "code",
   "execution_count": 14,
   "metadata": {},
   "outputs": [],
   "source": [
    "df_12_14 = df[(df['Year'] == \"2012\") | (df['Year'] == \"2013\") | (df['Year'] == \"2014\") ]\n",
    "df_12_14.to_csv('accidents_2012_to_2014.csv')"
   ]
  },
  {
   "cell_type": "code",
   "execution_count": null,
   "metadata": {
    "collapsed": true
   },
   "outputs": [],
   "source": []
  }
 ],
 "metadata": {
  "kernelspec": {
   "display_name": "Python 3",
   "language": "python",
   "name": "python3"
  },
  "language_info": {
   "codemirror_mode": {
    "name": "ipython",
    "version": 3
   },
   "file_extension": ".py",
   "mimetype": "text/x-python",
   "name": "python",
   "nbconvert_exporter": "python",
   "pygments_lexer": "ipython3",
   "version": "3.6.5"
  }
 },
 "nbformat": 4,
 "nbformat_minor": 2
}
